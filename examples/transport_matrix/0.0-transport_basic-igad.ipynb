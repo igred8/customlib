{
 "metadata": {
  "language_info": {
   "codemirror_mode": {
    "name": "ipython",
    "version": 3
   },
   "file_extension": ".py",
   "mimetype": "text/x-python",
   "name": "python",
   "nbconvert_exporter": "python",
   "pygments_lexer": "ipython3",
   "version": "3.8.6-final"
  },
  "orig_nbformat": 2,
  "kernelspec": {
   "name": "python3",
   "display_name": "Python 3.8.6 64-bit ('accel_phys_38': conda)",
   "metadata": {
    "interpreter": {
     "hash": "4ab4f27d6bd17e19cdb3dbc0b15611364527a29e2b22143222e888f5f07ea340"
    }
   }
  }
 },
 "nbformat": 4,
 "nbformat_minor": 2,
 "cells": [
  {
   "cell_type": "code",
   "execution_count": 1,
   "metadata": {},
   "outputs": [],
   "source": [
    "%load_ext autoreload\n",
    "%autoreload 2\n",
    "\n",
    "import sys\n",
    "import os\n",
    "import time\n",
    "\n",
    "sys.path.append('D:/Dropbox/py_projects/customlib/')\n",
    "import customlib as cl\n",
    "\n",
    "import numpy as np\n",
    "import scipy.constants as pc\n",
    "\n",
    "import matplotlib.pyplot as plt\n",
    "%matplotlib widget\n",
    "import ipywidgets as widgets\n",
    "\n",
    "from matplotlib.widgets import Slider, Button"
   ]
  },
  {
   "cell_type": "code",
   "execution_count": null,
   "metadata": {},
   "outputs": [],
   "source": []
  },
  {
   "source": [
    "def func_trip_symm(maglen, qgrad1, qgrad2, qgrad3, driftlen, invecx, invecy):\n",
    "\n",
    "    ENG0 = np.sqrt(200**2 + cl.mc2**2)\n",
    "\n",
    "    MAG_LEN = maglen * np.array([1, 2, 1])\n",
    "    # MAG_GRAD = 70\n",
    "    MAG_GRAD = np.array([qgrad1, qgrad2, qgrad3])\n",
    "    MAG_POS = np.array([  0.0\n",
    "                        , MAG_LEN[0]/2 + driftlen + MAG_LEN[1]/2\n",
    "                        , 2*(MAG_LEN[0]/2 + driftlen + MAG_LEN[1]/2)\n",
    "                        ])\n",
    "\n",
    "    ELEMENT_LIST = []\n",
    "\n",
    "    qprops = {   'eletype':'quad'\n",
    "                ,'position':MAG_POS[0]\n",
    "                ,'maglen':MAG_LEN[0]\n",
    "                ,'gradient':MAG_GRAD[0]\n",
    "                ,'totengMeV':ENG0\n",
    "                ,'restmassMeV':cl.mc2\n",
    "                ,'charge':1\n",
    "                ,'focus':'focus'\n",
    "                    }\n",
    "    ele_q1 = cl.BLElement('Q1', eleprops=qprops)\n",
    "    ELEMENT_LIST.append(ele_q1)\n",
    "\n",
    "    qprops = qprops.copy() # need copy, otherwise element props change\n",
    "    qprops['position'] = MAG_POS[1]\n",
    "    qprops['maglen'] = MAG_LEN[1]\n",
    "    qprops['gradient'] = MAG_GRAD[1]\n",
    "    qprops['focus'] = 'defocus'\n",
    "\n",
    "    ele_q2 = cl.BLElement('Q2', eleprops=qprops)\n",
    "    ELEMENT_LIST.append(ele_q2)\n",
    "\n",
    "    qprops = qprops.copy()\n",
    "    qprops['position'] = MAG_POS[2]\n",
    "    qprops['maglen'] = MAG_LEN[2]\n",
    "    qprops['gradient'] = MAG_GRAD[2]\n",
    "    qprops['focus'] = 'focus'\n",
    "    ele_q3 = cl.BLElement('Q3', eleprops=qprops)\n",
    "    ELEMENT_LIST.append(ele_q3)\n",
    "\n",
    "    # make the beamline\n",
    "    bl1 = cl.BeamLine()\n",
    "    for ele in ELEMENT_LIST:\n",
    "        bl1.add_element(ele)\n",
    "    \n",
    "    # output steps\n",
    "    S_IN = -100e-3\n",
    "    S_OUT = 1.2\n",
    "    S_STEP = 100e-3\n",
    "\n",
    "    outpos, outvecx = bl1.ray_trace(invecx, S_IN, np.arange(S_IN, S_OUT, S_STEP), ytransport=False)\n",
    "    outpos, outvecy = bl1.ray_trace(invecy, S_IN, np.arange(S_IN, S_OUT, S_STEP), ytransport=True)\n",
    "    \n",
    "    return outpos, outvecx, outvecy"
   ],
   "cell_type": "code",
   "metadata": {},
   "execution_count": 2,
   "outputs": []
  },
  {
   "cell_type": "code",
   "execution_count": 37,
   "metadata": {},
   "outputs": [],
   "source": []
  },
  {
   "cell_type": "code",
   "execution_count": 3,
   "metadata": {},
   "outputs": [
    {
     "output_type": "execute_result",
     "data": {
      "text/plain": [
       "(2, 20)"
      ]
     },
     "metadata": {},
     "execution_count": 3
    }
   ],
   "source": [
    "# set the RNG seed for consistency with each run\n",
    "rng = np.random.default_rng(42)\n",
    "NPART = 20\n",
    "E_CENX = 0.0 # (m) init centroid of electron beam\n",
    "E_SIGX = 95.0e-6 # (m) init size of electron beam\n",
    "E_CENXP = 0.0 # (m) init centroid of electron beam in x-momentum \n",
    "E_SIGXP = 100.0e-6 # (m) init size of electron beam in x-momentum \n",
    "E_INVEC_X = np.transpose(np.c_[ rng.normal(E_CENX, E_SIGX, NPART), rng.normal(E_CENXP, E_SIGXP, NPART) ] )\n",
    "NSIGMA = 3\n",
    "E_INVEC_X = np.transpose(np.c_[ \n",
    "                                  np.linspace( E_CENX-NSIGMA*E_SIGX, E_CENX+NSIGMA*E_SIGX,NPART )\n",
    "                                , np.linspace( E_CENXP-NSIGMA*E_SIGXP, E_CENXP+NSIGMA*E_SIGXP,NPART ) \n",
    "                                ] \n",
    "                                )\n",
    "E_INVEC_X.shape"
   ]
  },
  {
   "cell_type": "code",
   "execution_count": 78,
   "metadata": {},
   "outputs": [],
   "source": [
    "outpos, outvecx, outvecy = func_trip_symm(40e-3, 80,70,80, 30e-3, E_INVEC_X, E_INVEC_X)\n"
   ]
  },
  {
   "cell_type": "code",
   "execution_count": null,
   "metadata": {},
   "outputs": [],
   "source": []
  },
  {
   "cell_type": "code",
   "execution_count": 79,
   "metadata": {},
   "outputs": [
    {
     "output_type": "display_data",
     "data": {
      "text/plain": "Canvas(toolbar=Toolbar(toolitems=[('Home', 'Reset original view', 'home', 'home'), ('Back', 'Back to previous …",
      "application/vnd.jupyter.widget-view+json": {
       "version_major": 2,
       "version_minor": 0,
       "model_id": "7c5ea41ec4d44583a2c9aca0cbae8a73"
      }
     },
     "metadata": {}
    }
   ],
   "source": [
    "fig, ax = plt.subplots(figsize=(9,7))\n",
    "colorlist = ['dodgerblue', 'orange', 'dodgerblue']\n",
    "ls = dict(linewidth=1.50,linestyle='-',marker='o',ms=0, alpha=0.5)\n",
    "\n",
    "yscale = 1e6\n",
    "\n",
    "xvec = outpos\n",
    "for i in range(NPART):\n",
    "    ls['color'] = 'dodgerblue'\n",
    "    yvec = yscale*outvecx[:,0,i]\n",
    "    ax.plot(xvec, yvec, **ls)\n",
    "\n",
    "    ls['color'] = 'orange'\n",
    "    yvec = yscale*outvecy[:,0,i]\n",
    "    ax.plot(xvec, yvec, **ls)\n",
    "\n",
    "fs = dict(fontsize=18, color='k')\n",
    "plt.xlabel('z (m)',**fs)\n",
    "plt.ylabel('x,y (m)', **fs)\n",
    "\n",
    "titlestr = ('triplet')\n",
    "plt.title(titlestr, fontsize=24)\n",
    "\n",
    "\n",
    "\n",
    "pr = np.array([-200, 200, -125, 125])\n",
    "# plt.axis(pr)\n",
    "\n",
    "# xticks = np.arange(-200,200,50)\n",
    "# ax.set_xticks(xticks)\n",
    "# yticks = np.arange(-120, 120, 20)\n",
    "# ax.set_yticks(yticks)\n",
    "ax.tick_params(labelcolor='k', labelsize=18, width=1)\n",
    "\n",
    "plt.grid(False)\n",
    "plt.show()"
   ]
  },
  {
   "cell_type": "code",
   "execution_count": 14,
   "metadata": {},
   "outputs": [
    {
     "output_type": "display_data",
     "data": {
      "text/plain": "Canvas(toolbar=Toolbar(toolitems=[('Home', 'Reset original view', 'home', 'home'), ('Back', 'Back to previous …",
      "application/vnd.jupyter.widget-view+json": {
       "version_major": 2,
       "version_minor": 0,
       "model_id": "49eab10cfe0e443cbbaf8d3fc3183d6b"
      }
     },
     "metadata": {}
    }
   ],
   "source": [
    "g1_init = 72\n",
    "g2_init = 63\n",
    "g3_init = 70\n",
    "outpos, outvecx, outvecy = func_trip_symm(40e-3, g1_init,g2_init,g3_init, 30e-3, E_INVEC_X, E_INVEC_X)\n",
    "\n",
    "\n",
    "fig, ax = plt.subplots(figsize=(9,7))\n",
    "plt.subplots_adjust(left=0.15, bottom=0.5)\n",
    "colorlist = ['dodgerblue', 'orange', 'dodgerblue']\n",
    "ls = dict(linewidth=1.50,linestyle='-',marker='o',ms=0, alpha=0.5)\n",
    "\n",
    "xvec = outpos\n",
    "for i in range(NPART):\n",
    "    ls['color'] = 'dodgerblue'\n",
    "    yvec = yscale * outvecx[:,0,i]\n",
    "    ax.plot(xvec, yvec, **ls)\n",
    "\n",
    "    ls['color'] = 'orange'\n",
    "    yvec = yscale * outvecy[:,0,i]\n",
    "    ax.plot(xvec, yvec, **ls)\n",
    "\n",
    "ax.legend(['x','y'], fontsize=13,loc=(0.0,0.6))\n",
    "        \n",
    "fs = dict(fontsize=18, color='k')\n",
    "ax.set_xlabel('z (m)',**fs)\n",
    "plt.ylabel('x,y (m)', **fs)\n",
    "\n",
    "titlestr = ('triplet')\n",
    "ax.set_title(titlestr, fontsize=24)\n",
    "\n",
    "plt.margins(x=0)\n",
    "pr = np.array([-100e-3, 1.1, -250, 250])\n",
    "ax.axis(pr)\n",
    "\n",
    "# xticks = np.arange(-200,200,50)\n",
    "# ax.set_xticks(xticks)\n",
    "# yticks = np.arange(-120, 120, 20)\n",
    "# ax.set_yticks(yticks)\n",
    "ax.tick_params(labelcolor='k', labelsize=18, width=1)\n",
    "\n",
    "axcolor = 'lightgray'\n",
    "axg1 = plt.axes([0.25, 0.2, 0.65, 0.03], facecolor=axcolor)\n",
    "axg2 = plt.axes([0.25, 0.15, 0.65, 0.03], facecolor=axcolor)\n",
    "axg3 = plt.axes([0.25, 0.1, 0.65, 0.03], facecolor=axcolor)\n",
    "\n",
    "sliderg1 = Slider(axg1, 'Grad 1', 0.0, 100.0, valinit=g1_init, valstep=1, dragging=False)\n",
    "sliderg2 = Slider(axg2, 'Grad 2', 0.0, 100.0, valinit=g2_init, valstep=1, dragging=False)\n",
    "sliderg3 = Slider(axg3, 'Grad 3', 0.0, 100.0, valinit=g3_init, valstep=1, dragging=False)\n",
    "\n",
    "\n",
    "\n",
    "\n",
    "yscale = 1e6\n",
    "\n",
    "def update(val):\n",
    "    \"\"\"Remove old lines from plot and plot new one\"\"\"\n",
    "    # [l.remove() for l in ax.lines]\n",
    "    ax.clear()\n",
    "\n",
    "    outpos, outvecx, outvecy = func_trip_symm(40e-3, sliderg1.val, sliderg2.val, sliderg3.val, 30e-3, E_INVEC_X, E_INVEC_X)\n",
    "    \n",
    "    xvec = outpos\n",
    "    for i in range(NPART):\n",
    "        ls['color'] = 'dodgerblue'\n",
    "        yvec = yscale * outvecx[:,0,i]\n",
    "        ax.plot(xvec, yvec, **ls)\n",
    "\n",
    "        ls['color'] = 'orange'\n",
    "        yvec = yscale * outvecy[:,0,i]\n",
    "        ax.plot(xvec, yvec, **ls)\n",
    "\n",
    "        ax.axis(pr)\n",
    "\n",
    "sliderg1.on_changed(update)\n",
    "sliderg2.on_changed(update)\n",
    "sliderg3.on_changed(update)\n",
    "\n",
    "resetax = plt.axes([0.8, 0.025, 0.1, 0.04])\n",
    "button = Button(resetax, 'Reset', color=axcolor, hovercolor='0.975')\n",
    "\n",
    "\n",
    "def reset(event):\n",
    "    sliderg1.reset()\n",
    "    sliderg2.reset()\n",
    "    sliderg3.reset()\n",
    "button.on_clicked(reset)\n",
    "\n",
    "\n",
    "plt.show()"
   ]
  },
  {
   "cell_type": "code",
   "execution_count": 49,
   "metadata": {},
   "outputs": [
    {
     "output_type": "execute_result",
     "data": {
      "text/plain": [
       "200"
      ]
     },
     "metadata": {},
     "execution_count": 49
    }
   ],
   "source": [
    "71,63,71\n"
   ]
  },
  {
   "cell_type": "code",
   "execution_count": 68,
   "metadata": {},
   "outputs": [
    {
     "output_type": "execute_result",
     "data": {
      "text/plain": [
       "40"
      ]
     },
     "metadata": {},
     "execution_count": 68
    }
   ],
   "source": [
    "len(ax.lines)"
   ]
  },
  {
   "cell_type": "code",
   "execution_count": null,
   "metadata": {},
   "outputs": [],
   "source": []
  },
  {
   "cell_type": "code",
   "execution_count": 20,
   "metadata": {},
   "outputs": [
    {
     "output_type": "display_data",
     "data": {
      "text/plain": "Canvas(toolbar=Toolbar(toolitems=[('Home', 'Reset original view', 'home', 'home'), ('Back', 'Back to previous …",
      "application/vnd.jupyter.widget-view+json": {
       "version_major": 2,
       "version_minor": 0,
       "model_id": "1f6686af4ff24c9ca8f1aa4272dec73b"
      }
     },
     "metadata": {}
    }
   ],
   "source": [
    "from matplotlib.widgets import Slider, Button\n",
    "\n",
    "fig, ax = plt.subplots()\n",
    "plt.subplots_adjust(left=0.25, bottom=0.25)\n",
    "t = np.arange(0.0, 1.0, 0.001)\n",
    "a0 = 5\n",
    "f0 = 3\n",
    "delta_f = 5.0\n",
    "s = a0 * np.sin(2 * np.pi * f0 * t)\n",
    "l, = plt.plot(t, s, lw=2)\n",
    "ax.margins(x=0)\n",
    "\n",
    "axcolor = 'lightgray'\n",
    "axfreq = plt.axes([0.25, 0.1, 0.65, 0.03], facecolor=axcolor)\n",
    "axamp = plt.axes([0.25, 0.15, 0.65, 0.03], facecolor=axcolor)\n",
    "\n",
    "sfreq = Slider(axfreq, 'Freq', 0.1, 30.0, valinit=f0, valstep=delta_f, dragging=False)\n",
    "samp = Slider(axamp, 'Amp', 0.1, 10.0, valinit=a0)\n",
    "\n",
    "\n",
    "def update(val):\n",
    "    amp = samp.val\n",
    "    freq = sfreq.val\n",
    "    l.set_ydata(amp*np.sin(2*np.pi*freq*t))\n",
    "    fig.canvas.draw_idle()\n",
    "\n",
    "\n",
    "sfreq.on_changed(update)\n",
    "samp.on_changed(update)\n",
    "\n",
    "resetax = plt.axes([0.8, 0.025, 0.1, 0.04])\n",
    "button = Button(resetax, 'Reset', color=axcolor, hovercolor='0.975')\n",
    "\n",
    "\n",
    "def reset(event):\n",
    "    sfreq.reset()\n",
    "    samp.reset()\n",
    "button.on_clicked(reset)\n",
    "\n",
    "plt.show()"
   ]
  },
  {
   "cell_type": "code",
   "execution_count": null,
   "metadata": {},
   "outputs": [],
   "source": []
  }
 ]
}